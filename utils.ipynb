{
 "cells": [
  {
   "cell_type": "code",
   "execution_count": 1,
   "metadata": {},
   "outputs": [],
   "source": [
    "import pandas as pd\n",
    "import numpy as np\n",
    "from sklearn.preprocessing import StandardScaler\n",
    "from sklearn import preprocessing"
   ]
  },
  {
   "cell_type": "code",
   "execution_count": null,
   "metadata": {},
   "outputs": [],
   "source": [
    "def preprocess(df):\n",
    "    print(\"Before preprocessing\")\n",
    "    print(\"Number of rows with 0 values\")\n",
    "    for col in df.columns:\n",
    "        missing_rows = df.loc[df[col] == 0].shape[0]\n",
    "        print(col + \": \" + str(missing_rows))\n",
    "\n",
    "    # Replace 0 values with the mean of the existing values\n",
    "    df['Glucose'] = df['Glucose'].replace(0, np.nan)\n",
    "    df['BloodPressure'] = df['BloodPressure'].replace(0, np.nan)\n",
    "    df['SkinThickness'] = df['SkinThickness'].replace(0, np.nan)\n",
    "    df['Insulin'] = df['Insulin'].replace(0, np.nan)\n",
    "    df['BMI'] = df['BMI'].replace(0, np.nan)\n",
    "    df['Glucose'] = df['Glucose'].fillna(df['Glucose'].mean())\n",
    "    df['BloodPressure'] = df['BloodPressure'].fillna(df['BloodPressure'].mean())\n",
    "    df['SkinThickness'] = df['SkinThickness'].fillna(df['SkinThickness'].mean())\n",
    "    df['Insulin'] = df['Insulin'].fillna(df['Insulin'].mean())\n",
    "    df['BMI'] = df['BMI'].fillna(df['BMI'].mean())\n",
    "\n",
    "    print(\"---------------------------------------------\")\n",
    "    print(\"After preprocessing\")\n",
    "    print(\"Number of rows with 0 values\")\n",
    "    for col in df.columns:\n",
    "        missing_rows = df.loc[df[col] == 0].shape[0]\n",
    "        print(col + \": \" + str(missing_rows))\n",
    "\n",
    "    # Standardization\n",
    "    df_scaled = preprocessing.scale(df)\n",
    "    df_scaled = pd.DataFrame(df_scaled, columns = df.columns)\n",
    "    df_scaled['Outcome'] = df['Outcome']\n",
    "    df = df_scaled\n",
    "    \n",
    "\n",
    "    return df"
   ]
  }
 ],
 "metadata": {
  "kernelspec": {
   "display_name": "Python 3",
   "language": "python",
   "name": "python3"
  },
  "language_info": {
   "codemirror_mode": {
    "name": "ipython",
    "version": 3
   },
   "file_extension": ".py",
   "mimetype": "text/x-python",
   "name": "python",
   "nbconvert_exporter": "python",
   "pygments_lexer": "ipython3",
   "version": "3.7.3"
  }
 },
 "nbformat": 4,
 "nbformat_minor": 2
}
