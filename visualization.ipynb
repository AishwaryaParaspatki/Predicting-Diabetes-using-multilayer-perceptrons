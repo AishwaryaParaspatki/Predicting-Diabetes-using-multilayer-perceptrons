{
 "cells": [
  {
   "cell_type": "code",
   "execution_count": 1,
   "metadata": {},
   "outputs": [
    {
     "name": "stdout",
     "output_type": "stream",
     "text": [
      "   Pregnancies  Glucose  BloodPressure  SkinThickness  Insulin   BMI  \\\n",
      "0            6      148             72             35        0  33.6   \n",
      "1            1       85             66             29        0  26.6   \n",
      "2            8      183             64              0        0  23.3   \n",
      "3            1       89             66             23       94  28.1   \n",
      "4            0      137             40             35      168  43.1   \n",
      "\n",
      "   DiabetesPedigreeFunction  Age  Outcome  \n",
      "0                     0.627   50        1  \n",
      "1                     0.351   31        0  \n",
      "2                     0.672   32        1  \n",
      "3                     0.167   21        0  \n",
      "4                     2.288   33        1  \n"
     ]
    }
   ],
   "source": [
    "import matplotlib\n",
    "matplotlib.use(\"TkAgg\")\n",
    "import pandas as pd\n",
    "from matplotlib import pyplot as plt    \n",
    "import seaborn as sns\n",
    "import warnings\n",
    "warnings.filterwarnings(\"ignore\")\n",
    "\n",
    "df = pd.read_csv('diabetes.csv')\n",
    "\n",
    "# look at the first 5 rows of the dataset\n",
    "print(df.head())\n",
    "\n",
    "# show histogram\n",
    "df.hist()\n",
    "plt.tight_layout()\n",
    "plt.show()\n",
    "\n",
    "plt.subplots(3,3,figsize=(20,20))\n",
    "\n",
    "# Plot a density plot for each variable\n",
    "for idx, col in enumerate(df.columns):\n",
    "    ax = plt.subplot(3,3,idx+1)\n",
    "    ax.yaxis.set_ticklabels([])\n",
    "    sns.distplot(df.loc[df.Outcome == 0][col], hist = False, axlabel = False, kde_kws = {'linestyle':'-', 'color':'black', 'label':\"No Diabetes\"})\n",
    "    sns.distplot(df.loc[df.Outcome == 1][col], hist = False, axlabel = False, kde_kws = {'linestyle':'--', 'color':'black', 'label':\"Diabetes\"})\n",
    "    ax.set_title(col)\n",
    "\n",
    "# Hide the 9th subplot (bottom right) since there are only 8 plots\n",
    "plt.subplot(3,3,9).set_visible(False)\n",
    "plt.tight_layout()\n",
    "plt.show()"
   ]
  },
  {
   "cell_type": "code",
   "execution_count": null,
   "metadata": {},
   "outputs": [],
   "source": []
  }
 ],
 "metadata": {
  "kernelspec": {
   "display_name": "Python 3",
   "language": "python",
   "name": "python3"
  },
  "language_info": {
   "codemirror_mode": {
    "name": "ipython",
    "version": 3
   },
   "file_extension": ".py",
   "mimetype": "text/x-python",
   "name": "python",
   "nbconvert_exporter": "python",
   "pygments_lexer": "ipython3",
   "version": "3.7.3"
  }
 },
 "nbformat": 4,
 "nbformat_minor": 2
}
